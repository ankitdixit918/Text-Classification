{
 "cells": [
  {
   "cell_type": "markdown",
   "id": "e21d44fc",
   "metadata": {},
   "source": [
    "<h2> Import neccessary packages </h2>"
   ]
  },
  {
   "cell_type": "code",
   "execution_count": 1,
   "id": "4a5f6666",
   "metadata": {},
   "outputs": [],
   "source": [
    "import pandas as pd\n",
    "import langdetect\n",
    "from langdetect import detect\n",
    "from copy import deepcopy\n",
    "import nltk\n",
    "import matplotlib.pyplot as plt\n",
    "from sklearn.feature_selection import chi2\n",
    "import numpy as np"
   ]
  },
  {
   "cell_type": "code",
   "execution_count": 131,
   "id": "4be03856",
   "metadata": {},
   "outputs": [
    {
     "name": "stderr",
     "output_type": "stream",
     "text": [
      "[nltk_data] Downloading package stopwords to\n",
      "[nltk_data]     C:\\Users\\ankit\\AppData\\Roaming\\nltk_data...\n",
      "[nltk_data]   Package stopwords is already up-to-date!\n"
     ]
    }
   ],
   "source": [
    "nltk.download('stopwords')\n",
    "from nltk.corpus import stopwords\n",
    "from nltk.stem.wordnet import WordNetLemmatizer\n",
    "from nltk.tokenize import  word_tokenize\n",
    "import string\n",
    "stop = set(stopwords.words('english'))\n",
    "exclude = set(string.punctuation)\n",
    "lemma = WordNetLemmatizer()"
   ]
  },
  {
   "cell_type": "markdown",
   "id": "11c84e0f",
   "metadata": {},
   "source": [
    "<h2> Read the data </h2>"
   ]
  },
  {
   "cell_type": "code",
   "execution_count": 8,
   "id": "e6beacb8",
   "metadata": {},
   "outputs": [],
   "source": [
    "data = pd.read_csv('Context.csv')"
   ]
  },
  {
   "cell_type": "markdown",
   "id": "bd534aff",
   "metadata": {},
   "source": [
    "<h2> Look at the distribution of Target class </h2>"
   ]
  },
  {
   "cell_type": "code",
   "execution_count": 11,
   "id": "ac2b544a",
   "metadata": {
    "scrolled": true
   },
   "outputs": [
    {
     "data": {
      "image/png": "[encoded data removed]",
      "text/plain": [
       "<Figure size 576x432 with 1 Axes>"
      ]
     },
     "metadata": {
      "needs_background": "light"
     },
     "output_type": "display_data"
    }
   ],
   "source": [
    "\n",
    "fig = plt.figure(figsize=(8,6))\n",
    "data.groupby('Context/Topic').Text.count().plot.bar(ylim=0)\n",
    "plt.show()"
   ]
  },
  {
   "cell_type": "code",
   "execution_count": 275,
   "id": "09cd2a31",
   "metadata": {},
   "outputs": [],
   "source": [
    "df_txt_processing = deepcopy(data)"
   ]
  },
  {
   "cell_type": "markdown",
   "id": "86846fa3",
   "metadata": {},
   "source": [
    "<h2> Function to detect language of text </h2>"
   ]
  },
  {
   "cell_type": "code",
   "execution_count": 276,
   "id": "5ac90af3",
   "metadata": {},
   "outputs": [],
   "source": [
    "\n",
    "def func_detect(x):\n",
    "    try:\n",
    "        return detect(x)\n",
    "    except:\n",
    "        pass\n",
    "df_txt_processing['lang_1'] =  df_txt_processing['Text'].apply(lambda x: func_detect(x))"
   ]
  },
  {
   "cell_type": "markdown",
   "id": "1a8ca08f",
   "metadata": {},
   "source": [
    "<h2> Drop rows which are not in english language </h2>"
   ]
  },
  {
   "cell_type": "code",
   "execution_count": 277,
   "id": "f8137881",
   "metadata": {},
   "outputs": [],
   "source": [
    "\n",
    "df_txt_processing = df_txt_processing[df_txt_processing['lang_1'] == \"en\"]"
   ]
  },
  {
   "cell_type": "code",
   "execution_count": 278,
   "id": "cb3c71d6",
   "metadata": {
    "scrolled": true
   },
   "outputs": [
    {
     "data": {
      "text/html": [
       "<div>\n",
       "<style scoped>\n",
       "    .dataframe tbody tr th:only-of-type {\n",
       "        vertical-align: middle;\n",
       "    }\n",
       "\n",
       "    .dataframe tbody tr th {\n",
       "        vertical-align: top;\n",
       "    }\n",
       "\n",
       "    .dataframe thead th {\n",
       "        text-align: right;\n",
       "    }\n",
       "</style>\n",
       "<table border=\"1\" class=\"dataframe\">\n",
       "  <thead>\n",
       "    <tr style=\"text-align: right;\">\n",
       "      <th></th>\n",
       "      <th>Text</th>\n",
       "      <th>Context/Topic</th>\n",
       "      <th>lang_1</th>\n",
       "    </tr>\n",
       "  </thead>\n",
       "  <tbody>\n",
       "    <tr>\n",
       "      <th>0</th>\n",
       "      <td>The eternal mystique of Goldman Sachs</td>\n",
       "      <td>Politics</td>\n",
       "      <td>en</td>\n",
       "    </tr>\n",
       "    <tr>\n",
       "      <th>1</th>\n",
       "      <td>Either you don't care enough to actually tell ...</td>\n",
       "      <td>Love</td>\n",
       "      <td>en</td>\n",
       "    </tr>\n",
       "    <tr>\n",
       "      <th>2</th>\n",
       "      <td>I am such an IDIOT.</td>\n",
       "      <td>Heavy Emotion</td>\n",
       "      <td>en</td>\n",
       "    </tr>\n",
       "    <tr>\n",
       "      <th>3</th>\n",
       "      <td>While lifting weights on Friday and doing bent...</td>\n",
       "      <td>Health</td>\n",
       "      <td>en</td>\n",
       "    </tr>\n",
       "    <tr>\n",
       "      <th>4</th>\n",
       "      <td>Something's watching me</td>\n",
       "      <td>Animals</td>\n",
       "      <td>en</td>\n",
       "    </tr>\n",
       "    <tr>\n",
       "      <th>...</th>\n",
       "      <td>...</td>\n",
       "      <td>...</td>\n",
       "      <td>...</td>\n",
       "    </tr>\n",
       "    <tr>\n",
       "      <th>31381</th>\n",
       "      <td>**TL;DR**</td>\n",
       "      <td>Heavy Emotion</td>\n",
       "      <td>en</td>\n",
       "    </tr>\n",
       "    <tr>\n",
       "      <th>31382</th>\n",
       "      <td>Looks are everything</td>\n",
       "      <td>Heavy Emotion</td>\n",
       "      <td>en</td>\n",
       "    </tr>\n",
       "    <tr>\n",
       "      <th>31383</th>\n",
       "      <td>Teacher: write a thing that you want to do til...</td>\n",
       "      <td>Education</td>\n",
       "      <td>en</td>\n",
       "    </tr>\n",
       "    <tr>\n",
       "      <th>31384</th>\n",
       "      <td>General Secretary of India's ruling party, the...</td>\n",
       "      <td>Politics</td>\n",
       "      <td>en</td>\n",
       "    </tr>\n",
       "    <tr>\n",
       "      <th>31385</th>\n",
       "      <td>Heastie rewarded contributors, racked up unusu...</td>\n",
       "      <td>Politics</td>\n",
       "      <td>en</td>\n",
       "    </tr>\n",
       "  </tbody>\n",
       "</table>\n",
       "<p>28021 rows × 3 columns</p>\n",
       "</div>"
      ],
      "text/plain": [
       "                                                    Text  Context/Topic lang_1\n",
       "0                  The eternal mystique of Goldman Sachs       Politics     en\n",
       "1      Either you don't care enough to actually tell ...           Love     en\n",
       "2                                    I am such an IDIOT.  Heavy Emotion     en\n",
       "3      While lifting weights on Friday and doing bent...         Health     en\n",
       "4                                Something's watching me        Animals     en\n",
       "...                                                  ...            ...    ...\n",
       "31381                                          **TL;DR**  Heavy Emotion     en\n",
       "31382                               Looks are everything  Heavy Emotion     en\n",
       "31383  Teacher: write a thing that you want to do til...      Education     en\n",
       "31384  General Secretary of India's ruling party, the...       Politics     en\n",
       "31385  Heastie rewarded contributors, racked up unusu...       Politics     en\n",
       "\n",
       "[28021 rows x 3 columns]"
      ]
     },
     "execution_count": 278,
     "metadata": {},
     "output_type": "execute_result"
    }
   ],
   "source": [
    "df_txt_processing"
   ]
  },
  {
   "cell_type": "markdown",
   "id": "8bfd1476",
   "metadata": {},
   "source": [
    "<h2> Text pre-processing </h2>\n",
    "<h4> Keep Stop words as for 'Self' category accuracy goes down </h4>"
   ]
  },
  {
   "cell_type": "code",
   "execution_count": 279,
   "id": "35b10e94",
   "metadata": {},
   "outputs": [],
   "source": [
    "\n",
    "#df_txt_processing['Text'] = df_txt_processing['Text'].apply( lambda x: \" \".join([i for i in x.lower().split() if i not in stop]) )\n",
    "df_txt_processing['Text'] = df_txt_processing['Text'].apply( lambda x: \" \".join([i for i in x.lower().split()]) )"
   ]
  },
  {
   "cell_type": "code",
   "execution_count": 81,
   "id": "7b786fcf",
   "metadata": {
    "scrolled": true
   },
   "outputs": [
    {
     "data": {
      "text/html": [
       "<div>\n",
       "<style scoped>\n",
       "    .dataframe tbody tr th:only-of-type {\n",
       "        vertical-align: middle;\n",
       "    }\n",
       "\n",
       "    .dataframe tbody tr th {\n",
       "        vertical-align: top;\n",
       "    }\n",
       "\n",
       "    .dataframe thead th {\n",
       "        text-align: right;\n",
       "    }\n",
       "</style>\n",
       "<table border=\"1\" class=\"dataframe\">\n",
       "  <thead>\n",
       "    <tr style=\"text-align: right;\">\n",
       "      <th></th>\n",
       "      <th>Text</th>\n",
       "      <th>Context/Topic</th>\n",
       "      <th>lang_1</th>\n",
       "    </tr>\n",
       "  </thead>\n",
       "  <tbody>\n",
       "    <tr>\n",
       "      <th>0</th>\n",
       "      <td>the eternal mystique of goldman sachs</td>\n",
       "      <td>Politics</td>\n",
       "      <td>en</td>\n",
       "    </tr>\n",
       "    <tr>\n",
       "      <th>1</th>\n",
       "      <td>either you don't care enough to actually tell ...</td>\n",
       "      <td>Love</td>\n",
       "      <td>en</td>\n",
       "    </tr>\n",
       "    <tr>\n",
       "      <th>2</th>\n",
       "      <td>i am such an idiot.</td>\n",
       "      <td>Heavy Emotion</td>\n",
       "      <td>en</td>\n",
       "    </tr>\n",
       "    <tr>\n",
       "      <th>3</th>\n",
       "      <td>while lifting weights on friday and doing bent...</td>\n",
       "      <td>Health</td>\n",
       "      <td>en</td>\n",
       "    </tr>\n",
       "    <tr>\n",
       "      <th>4</th>\n",
       "      <td>something's watching me</td>\n",
       "      <td>Animals</td>\n",
       "      <td>en</td>\n",
       "    </tr>\n",
       "    <tr>\n",
       "      <th>...</th>\n",
       "      <td>...</td>\n",
       "      <td>...</td>\n",
       "      <td>...</td>\n",
       "    </tr>\n",
       "    <tr>\n",
       "      <th>31381</th>\n",
       "      <td>**tl;dr**</td>\n",
       "      <td>Heavy Emotion</td>\n",
       "      <td>en</td>\n",
       "    </tr>\n",
       "    <tr>\n",
       "      <th>31382</th>\n",
       "      <td>looks are everything</td>\n",
       "      <td>Heavy Emotion</td>\n",
       "      <td>en</td>\n",
       "    </tr>\n",
       "    <tr>\n",
       "      <th>31383</th>\n",
       "      <td>teacher: write a thing that you want to do til...</td>\n",
       "      <td>Education</td>\n",
       "      <td>en</td>\n",
       "    </tr>\n",
       "    <tr>\n",
       "      <th>31384</th>\n",
       "      <td>general secretary of india's ruling party, the...</td>\n",
       "      <td>Politics</td>\n",
       "      <td>en</td>\n",
       "    </tr>\n",
       "    <tr>\n",
       "      <th>31385</th>\n",
       "      <td>heastie rewarded contributors, racked up unusu...</td>\n",
       "      <td>Politics</td>\n",
       "      <td>en</td>\n",
       "    </tr>\n",
       "  </tbody>\n",
       "</table>\n",
       "<p>28045 rows × 3 columns</p>\n",
       "</div>"
      ],
      "text/plain": [
       "                                                    Text  Context/Topic lang_1\n",
       "0                  the eternal mystique of goldman sachs       Politics     en\n",
       "1      either you don't care enough to actually tell ...           Love     en\n",
       "2                                    i am such an idiot.  Heavy Emotion     en\n",
       "3      while lifting weights on friday and doing bent...         Health     en\n",
       "4                                something's watching me        Animals     en\n",
       "...                                                  ...            ...    ...\n",
       "31381                                          **tl;dr**  Heavy Emotion     en\n",
       "31382                               looks are everything  Heavy Emotion     en\n",
       "31383  teacher: write a thing that you want to do til...      Education     en\n",
       "31384  general secretary of india's ruling party, the...       Politics     en\n",
       "31385  heastie rewarded contributors, racked up unusu...       Politics     en\n",
       "\n",
       "[28045 rows x 3 columns]"
      ]
     },
     "execution_count": 81,
     "metadata": {},
     "output_type": "execute_result"
    }
   ],
   "source": [
    "df_txt_processing"
   ]
  },
  {
   "cell_type": "markdown",
   "id": "a2ee3cb1",
   "metadata": {},
   "source": [
    "<h2> Perform Lemmatization </h2>"
   ]
  },
  {
   "cell_type": "code",
   "execution_count": 189,
   "id": "42224553",
   "metadata": {},
   "outputs": [
    {
     "name": "stderr",
     "output_type": "stream",
     "text": [
      "[nltk_data] Downloading package wordnet to\n",
      "[nltk_data]     C:\\Users\\ankit\\AppData\\Roaming\\nltk_data...\n",
      "[nltk_data]   Package wordnet is already up-to-date!\n"
     ]
    }
   ],
   "source": [
    "\n",
    "nltk.download('wordnet')\n",
    "df_txt_processing['Text'] = df_txt_processing['Text'].apply( lambda x: \" \".join(lemma.lemmatize(word) for word in x.split()) )\n"
   ]
  },
  {
   "cell_type": "code",
   "execution_count": 137,
   "id": "28b014bb",
   "metadata": {},
   "outputs": [],
   "source": [
    "#Punctuation removal\n",
    "#df_txt_processing['Text'] = df_txt_processing['Text'].apply( lambda x: ''.join(ch for ch in x if ch not in exclude) )"
   ]
  },
  {
   "cell_type": "markdown",
   "id": "ef2272a4",
   "metadata": {},
   "source": [
    "<h2> Label encode the target variable </h2>"
   ]
  },
  {
   "cell_type": "code",
   "execution_count": 280,
   "id": "0e4dd6e8",
   "metadata": {},
   "outputs": [],
   "source": [
    "\n",
    "df_txt_processing['Context_ID'] = df_txt_processing['Context/Topic'].factorize()[0]"
   ]
  },
  {
   "cell_type": "markdown",
   "id": "02f4d760",
   "metadata": {},
   "source": [
    "<h2> Transform the words into vectors by leveraging TfidfVectorizer </h2>"
   ]
  },
  {
   "cell_type": "code",
   "execution_count": 281,
   "id": "bf540a28",
   "metadata": {},
   "outputs": [
    {
     "data": {
      "text/plain": [
       "(28021, 22783)"
      ]
     },
     "execution_count": 281,
     "metadata": {},
     "output_type": "execute_result"
    }
   ],
   "source": [
    "\n",
    "from sklearn.feature_extraction.text import TfidfVectorizer\n",
    "tfidf = TfidfVectorizer(sublinear_tf=True, min_df=3, norm='l2', ngram_range=(1, 3), stop_words='english')\n",
    "features = tfidf.fit_transform(df_txt_processing.Text).toarray()\n",
    "labels = df_txt_processing.Context_ID\n",
    "features.shape"
   ]
  },
  {
   "cell_type": "code",
   "execution_count": 282,
   "id": "6fa1a5f6",
   "metadata": {},
   "outputs": [],
   "source": [
    "context_ID_df = df_txt_processing[['Context/Topic', 'Context_ID']].drop_duplicates().sort_values('Context_ID')\n",
    "context_to_ID = dict(context_ID_df.values)\n",
    "ID_to_context = dict(context_ID_df[['Context_ID', 'Context/Topic']].values)"
   ]
  },
  {
   "cell_type": "code",
   "execution_count": 283,
   "id": "f0479a28",
   "metadata": {},
   "outputs": [
    {
     "name": "stdout",
     "output_type": "stream",
     "text": [
      "Politics 0\n",
      "Love 1\n",
      "Heavy Emotion 2\n",
      "Health 3\n",
      "Animals 4\n",
      "Science 5\n",
      "Joke 6\n",
      "Religion 7\n",
      "Self 8\n",
      "Education 9\n",
      "Compliment 10\n"
     ]
    }
   ],
   "source": [
    "for topic, context_ID in context_to_ID.items():\n",
    "    print(topic, context_ID)"
   ]
  },
  {
   "cell_type": "markdown",
   "id": "8efdbee7",
   "metadata": {},
   "source": [
    "<h2> Look at the common unigrams, bigrams & trigrams </h2>"
   ]
  },
  {
   "cell_type": "code",
   "execution_count": 284,
   "id": "9e81b05a",
   "metadata": {
    "scrolled": true
   },
   "outputs": [
    {
     "name": "stdout",
     "output_type": "stream",
     "text": [
      "# 'Animals':\n",
      "Most correlated unigrams:\n",
      "* dog\n",
      "* cat\n",
      "* animals\n",
      "Most correlated bigrams:\n",
      "* animals world\n",
      "* wild animals\n",
      "* critter science\n",
      "Most correlated trigrams:\n",
      "* male northern white\n",
      "* northern white rhino\n",
      "* animals names sounds\n",
      "# 'Compliment':\n",
      "Most correlated unigrams:\n",
      "* congratulations\n",
      "* proud\n",
      "* congrats\n",
      "Most correlated bigrams:\n",
      "* good luck\n",
      "* great job\n",
      "* good job\n",
      "Most correlated trigrams:\n",
      "* thank good luck\n",
      "* thank kind words\n",
      "* happy cake day\n",
      "# 'Education':\n",
      "Most correlated unigrams:\n",
      "* noida\n",
      "* education\n",
      "* school\n",
      "Most correlated bigrams:\n",
      "* center noida\n",
      "* noida sector\n",
      "* training noida\n",
      "Most correlated trigrams:\n",
      "* center noida sector\n",
      "* training noida sector\n",
      "* training center noida\n",
      "# 'Health':\n",
      "Most correlated unigrams:\n",
      "* treatment\n",
      "* covid\n",
      "* health\n",
      "Most correlated bigrams:\n",
      "* health benefits\n",
      "* weight loss\n",
      "* covid 19\n",
      "Most correlated trigrams:\n",
      "* organic honey dhampurgreen\n",
      "* tp aigo chargers\n",
      "* covid 19 pandemic\n",
      "# 'Heavy Emotion':\n",
      "Most correlated unigrams:\n",
      "* fuck\n",
      "* hate\n",
      "* fucking\n",
      "Most correlated bigrams:\n",
      "* just want\n",
      "* need vent\n",
      "* feel like\n",
      "Most correlated trigrams:\n",
      "* just want end\n",
      "* just need vent\n",
      "* don know feel\n",
      "# 'Joke':\n",
      "Most correlated unigrams:\n",
      "* replies\n",
      "* asks\n",
      "* says\n",
      "Most correlated bigrams:\n",
      "* man says\n",
      "* old man\n",
      "* walks bar\n",
      "Most correlated trigrams:\n",
      "* man walks bar\n",
      "* happened little chick\n",
      "* favourite football team\n",
      "# 'Love':\n",
      "Most correlated unigrams:\n",
      "* loved\n",
      "* relationship\n",
      "* love\n",
      "Most correlated bigrams:\n",
      "* love love\n",
      "* fell love\n",
      "* fall love\n",
      "Most correlated trigrams:\n",
      "* just want love\n",
      "* love best friend\n",
      "* long distance relationship\n",
      "# 'Politics':\n",
      "Most correlated unigrams:\n",
      "* obama\n",
      "* gop\n",
      "* trump\n",
      "Most correlated bigrams:\n",
      "* bernie sanders\n",
      "* hillary clinton\n",
      "* donald trump\n",
      "Most correlated trigrams:\n",
      "* social media companies\n",
      "* national security adviser\n",
      "* black lives matter\n",
      "# 'Religion':\n",
      "Most correlated unigrams:\n",
      "* religious\n",
      "* god\n",
      "* religion\n",
      "Most correlated bigrams:\n",
      "* forbidden islam\n",
      "* does god\n",
      "* believe god\n",
      "Most correlated trigrams:\n",
      "* tue wed thu\n",
      "* mon tue wed\n",
      "* wed thu fri\n",
      "# 'Science':\n",
      "Most correlated unigrams:\n",
      "* study\n",
      "* researchers\n",
      "* scientists\n",
      "Most correlated bigrams:\n",
      "* study suggests\n",
      "* faster light\n",
      "* new study\n",
      "Most correlated trigrams:\n",
      "* according new research\n",
      "* single atom transistor\n",
      "* finds new study\n",
      "# 'Self':\n",
      "Most correlated unigrams:\n",
      "* questions\n",
      "* request\n",
      "* ask\n",
      "Most correlated bigrams:\n",
      "* answer questions\n",
      "* year old\n",
      "* ask away\n",
      "Most correlated trigrams:\n",
      "* 16 year old\n",
      "* year old male\n",
      "* feel free ask\n"
     ]
    }
   ],
   "source": [
    "#Look at the common unigrams, bigrams & trigrams\n",
    "N = 3\n",
    "for topic, context_ID in sorted(context_to_ID.items()):\n",
    "    features_chi2 = chi2(features, labels == context_ID)\n",
    "    indices = np.argsort(features_chi2[0])\n",
    "    feature_names = np.array(tfidf.get_feature_names())[indices]\n",
    "    unigrams = [v for v in feature_names if len(v.split(' ')) == 1]\n",
    "    bigrams = [v for v in feature_names if len(v.split(' ')) == 2]\n",
    "    trigrams = [v for v in feature_names if len(v.split(' ')) == 3]\n",
    "    print(\"# '{}':\".format(topic))\n",
    "    print(\"Most correlated unigrams:\\n* {}\".format('\\n* '.join(unigrams[-N:])))\n",
    "    print(\"Most correlated bigrams:\\n* {}\".format('\\n* '.join(bigrams[-N:])))\n",
    "    print(\"Most correlated trigrams:\\n* {}\".format('\\n* '.join(trigrams[-N:])))"
   ]
  },
  {
   "cell_type": "markdown",
   "id": "ba60432b",
   "metadata": {},
   "source": [
    "<h2> Model Selection </h2>"
   ]
  },
  {
   "cell_type": "code",
   "execution_count": 287,
   "id": "75cc17aa",
   "metadata": {},
   "outputs": [
    {
     "name": "stdout",
     "output_type": "stream",
     "text": [
      "RandomForestClassifier(max_depth=50, n_estimators=500, random_state=0)\n",
      "LinearSVC()\n",
      "MultinomialNB()\n",
      "LogisticRegression(class_weight='balanced', max_iter=10000,\n",
      "                   multi_class='multinomial', random_state=200)\n"
     ]
    },
    {
     "data": {
      "image/png": "[encoded data removed]",
      "text/plain": [
       "<Figure size 432x288 with 1 Axes>"
      ]
     },
     "metadata": {
      "needs_background": "light"
     },
     "output_type": "display_data"
    }
   ],
   "source": [
    "from sklearn.linear_model import LogisticRegression\n",
    "from sklearn.ensemble import RandomForestClassifier\n",
    "from sklearn.svm import LinearSVC\n",
    "from sklearn.model_selection import cross_val_score\n",
    "from sklearn.model_selection import train_test_split\n",
    "from sklearn.feature_extraction.text import CountVectorizer\n",
    "from sklearn.feature_extraction.text import TfidfTransformer\n",
    "from sklearn.naive_bayes import MultinomialNB\n",
    "import pickle\n",
    "\n",
    "models = [\n",
    "    RandomForestClassifier(n_estimators=500, max_depth= 50, random_state=0)\n",
    "    ,LinearSVC()\n",
    "    ,MultinomialNB()\n",
    "    ,LogisticRegression(multi_class='multinomial', random_state = 200, class_weight = 'balanced', max_iter=10000)\n",
    "]\n",
    "CV = 4\n",
    "cv_df = pd.DataFrame(index=range(CV * len(models)))\n",
    "entries = []\n",
    "for model in models:\n",
    "    print(model)\n",
    "    model_name = model.__class__.__name__\n",
    "    accuracies = cross_val_score(model, features, labels, scoring='accuracy', cv=CV)\n",
    "    for fold_idx, accuracy in enumerate(accuracies):\n",
    "        entries.append((model_name, fold_idx, accuracy))\n",
    "    pickle.dump(model, open('models/'+  model_name + '_final_prediction.pkl', 'wb'))\n",
    "    \n",
    "cv_df = pd.DataFrame(entries, columns=['model_name', 'fold_idx', 'accuracy'])\n",
    "import seaborn as sns\n",
    "sns.boxplot(x='model_name', y='accuracy', data=cv_df)\n",
    "sns.stripplot(x='model_name', y='accuracy', data=cv_df, \n",
    "              size=8, jitter=True, edgecolor=\"gray\", linewidth=2)\n",
    "plt.show()"
   ]
  },
  {
   "cell_type": "code",
   "execution_count": 288,
   "id": "521b59d6",
   "metadata": {
    "scrolled": true
   },
   "outputs": [
    {
     "data": {
      "image/png": "[encoded data removed]",
      "text/plain": [
       "<Figure size 432x288 with 1 Axes>"
      ]
     },
     "metadata": {
      "needs_background": "light"
     },
     "output_type": "display_data"
    }
   ],
   "source": [
    "cv_df = pd.DataFrame(entries, columns=['model_name', 'fold_idx', 'accuracy'])\n",
    "import seaborn as sns\n",
    "sns.boxplot(x='model_name', y='accuracy', data=cv_df)\n",
    "sns.stripplot(x='model_name', y='accuracy', data=cv_df, \n",
    "              size=8, jitter=True, edgecolor=\"gray\", linewidth=2)\n",
    "plt.show()"
   ]
  },
  {
   "cell_type": "markdown",
   "id": "9ba9e702",
   "metadata": {},
   "source": [
    "<h1> Based on performance, Logistic Regression is chosen as final model </h1>"
   ]
  },
  {
   "cell_type": "code",
   "execution_count": 289,
   "id": "39dee818",
   "metadata": {
    "scrolled": true
   },
   "outputs": [
    {
     "data": {
      "text/plain": [
       "model_name\n",
       "LinearSVC                 0.655080\n",
       "LogisticRegression        0.657043\n",
       "MultinomialNB             0.631990\n",
       "RandomForestClassifier    0.521466\n",
       "Name: accuracy, dtype: float64"
      ]
     },
     "execution_count": 289,
     "metadata": {},
     "output_type": "execute_result"
    }
   ],
   "source": [
    "cv_df.groupby('model_name').accuracy.mean()"
   ]
  },
  {
   "cell_type": "code",
   "execution_count": 290,
   "id": "7ab02011",
   "metadata": {},
   "outputs": [
    {
     "data": {
      "text/plain": [
       "10844"
      ]
     },
     "execution_count": 290,
     "metadata": {},
     "output_type": "execute_result"
    }
   ],
   "source": [
    "#import pickle\n",
    "#pickle.dump(model, open('models/'+  model_name + '_final_prediction.pkl', 'wb'))\n",
    "del features\n",
    "import gc\n",
    "gc.collect()"
   ]
  },
  {
   "cell_type": "code",
   "execution_count": 297,
   "id": "8aaa30f3",
   "metadata": {},
   "outputs": [],
   "source": [
    "class TextClassifier(object):\n",
    "    \n",
    "    def __init__(self):\n",
    "        \"\"\"Simple NLP\n",
    "        Attributes:\n",
    "            clf: sklearn classifier model\n",
    "            vectorizor: TFIDF vectorizer or similar\n",
    "        \"\"\"\n",
    "        self.clf = LogisticRegression(multi_class='multinomial', random_state = 200,class_weight = 'balanced', max_iter=10000)\n",
    "        \n",
    "        self.vectorizer = TfidfVectorizer()\n",
    "        \n",
    "        #self.vect_word = TfidfVectorizer(max_features=20000, lowercase=True, analyzer='word',\n",
    "        #                stop_words= 'english',ngram_range=(1,3),dtype=np.float32)\n",
    "        #\n",
    "        #self.vect_char = TfidfVectorizer(max_features=40000, lowercase=True, analyzer='char',\n",
    "        #                stop_words= 'english',ngram_range=(3,6),dtype=np.float32)\n",
    "        \n",
    "    def vectorizer_fit(self, X):\n",
    "        \"\"\"Fits a TFIDF vectorizer to the text\n",
    "        \"\"\"\n",
    "        \n",
    "        self.vectorizer.fit(X)\n",
    "\n",
    "    def vectorizer_transform(self, X):\n",
    "        \"\"\"Transform the text data to a sparse TFIDF matrix\n",
    "        \"\"\"\n",
    "        \n",
    "        X_transformed = self.vectorizer.transform(X)\n",
    "        return X_transformed\n",
    "    \n",
    "\n",
    "    def train(self, X, y):\n",
    "        \"\"\"Trains the classifier to associate the label with the sparse matrix\n",
    "        \"\"\"\n",
    "        # X_train, X_test, y_train, y_test = train_test_split(X, y)\n",
    "        self.clf.fit(X, y)\n",
    "\n",
    "    def predict_proba(self, X):\n",
    "        \"\"\"Returns probability for the binary class '1' in a numpy array\n",
    "        \"\"\"\n",
    "        y_proba = self.clf.predict_proba(X)\n",
    "        return y_proba[:, 1]\n",
    "\n",
    "    def predict(self, X):\n",
    "        \"\"\"Returns the predicted class in an array\n",
    "        \"\"\"\n",
    "        y_pred = self.clf.predict(X)\n",
    "        return y_pred\n",
    "\n",
    "    def pickle_vectorizer(self, path='C:\\\\Users\\\\ankit\\\\Documents\\\\Text_Classification\\\\models\\\\TFIDFVectorizer.pkl'):\n",
    "        \"\"\"Saves the trained vectorizer for future use.\n",
    "        \"\"\"\n",
    "        with open(path, 'wb') as f:\n",
    "            pickle.dump(self.vectorizer, f)\n",
    "            print(\"Pickled vectorizer at {}\".format(path))\n",
    "\n",
    "    def pickle_clf(self, path = 'C:\\\\Users\\\\ankit\\\\Documents\\\\Text_Classification\\\\models\\\\LogisticRegression_final_prediction.pkl'):\n",
    "        \"\"\"Saves the trained classifier for future use.\n",
    "        \"\"\"\n",
    "        with open(path, 'wb') as f:\n",
    "            pickle.dump(self.clf, f)\n",
    "            print(\"Pickled classifier at {}\".format(path))\n"
   ]
  },
  {
   "cell_type": "code",
   "execution_count": 298,
   "id": "67e84fce",
   "metadata": {},
   "outputs": [],
   "source": [
    "model = TextClassifier()"
   ]
  },
  {
   "cell_type": "code",
   "execution_count": 299,
   "id": "1ab0117d",
   "metadata": {},
   "outputs": [],
   "source": [
    "train=df_txt_processing.sample(frac=0.8, random_state=200) #random state is a seed value\n",
    "test=df_txt_processing.drop(train.index)"
   ]
  },
  {
   "cell_type": "code",
   "execution_count": 300,
   "id": "1f2afa62",
   "metadata": {},
   "outputs": [
    {
     "name": "stdout",
     "output_type": "stream",
     "text": [
      "Vectorizer fit complete\n",
      "Vectorizer transform complete\n",
      "Pickled classifier at C:\\Users\\ankit\\Documents\\Text_Classification\\models\\LogisticRegression_final_prediction.pkl\n",
      "Pickled vectorizer at C:\\Users\\ankit\\Documents\\Text_Classification\\models\\TFIDFVectorizer.pkl\n"
     ]
    }
   ],
   "source": [
    "model.vectorizer_fit(train['Text'])\n",
    "print('Vectorizer fit complete')\n",
    "X = model.vectorizer_transform(train['Text'])\n",
    "print('Vectorizer transform complete')\n",
    "y = train['Context/Topic']\n",
    "\n",
    "model.train(X, y)\n",
    "model.pickle_clf()\n",
    "model.pickle_vectorizer()"
   ]
  },
  {
   "cell_type": "code",
   "execution_count": 301,
   "id": "7e79766e",
   "metadata": {},
   "outputs": [],
   "source": [
    "trn=df_txt_processing['Text'].sample(frac=0.8,random_state=200) #random state is a seed value\n",
    "test=df_txt_processing['Text'].drop(trn.index)"
   ]
  },
  {
   "cell_type": "code",
   "execution_count": 231,
   "id": "b0139c6e",
   "metadata": {
    "scrolled": true
   },
   "outputs": [],
   "source": [
    "#user_query = np.array(['Animals are kind'])\n",
    "#model.vectorizer_fit(user_query)\n",
    "#uq_vectorized = model.vectorizer_transform(user_query)"
   ]
  },
  {
   "cell_type": "code",
   "execution_count": 232,
   "id": "e4693c20",
   "metadata": {},
   "outputs": [],
   "source": [
    "import pickle\n",
    "clf_path = 'C:\\\\Users\\\\ankit\\\\Documents\\\\Text_Classification\\\\models\\\\LogisticRegression_final_prediction.pkl'\n",
    "with open(clf_path, 'rb') as f:\n",
    "    model.clf = pickle.load(f)"
   ]
  },
  {
   "cell_type": "code",
   "execution_count": 234,
   "id": "077dcf7a",
   "metadata": {},
   "outputs": [],
   "source": [
    "vec_path = 'C:\\\\Users\\\\ankit\\\\Documents\\\\Text_Classification\\\\models\\\\TFIDFVectorizer.pkl'\n",
    "with open(vec_path, 'rb') as f:\n",
    "    model.vectorizer = pickle.load(f)"
   ]
  },
  {
   "cell_type": "code",
   "execution_count": 352,
   "id": "9c285eee",
   "metadata": {},
   "outputs": [
    {
     "name": "stdout",
     "output_type": "stream",
     "text": [
      "['Animals']\n"
     ]
    }
   ],
   "source": [
    "x = '''Be kind to all animals'''\n",
    "uq_vectorized = model.vectorizer_transform(np.array([x]))\n",
    "prediction = model.predict(uq_vectorized)\n",
    "pred_proba = model.predict_proba(uq_vectorized)\n",
    "print(prediction)"
   ]
  }
 ],
 "metadata": {
  "kernelspec": {
   "display_name": "Python 3 (ipykernel)",
   "language": "python",
   "name": "python3"
  },
  "language_info": {
   "codemirror_mode": {
    "name": "ipython",
    "version": 3
   },
   "file_extension": ".py",
   "mimetype": "text/x-python",
   "name": "python",
   "nbconvert_exporter": "python",
   "pygments_lexer": "ipython3",
   "version": "3.9.7"
  }
 },
 "nbformat": 4,
 "nbformat_minor": 5
}
